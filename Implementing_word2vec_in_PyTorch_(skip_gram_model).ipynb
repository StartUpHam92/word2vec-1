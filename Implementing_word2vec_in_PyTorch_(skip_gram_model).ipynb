{
  "nbformat": 4,
  "nbformat_minor": 0,
  "metadata": {
    "colab": {
      "name": "Implementing word2vec in PyTorch (skip-gram model).ipynb",
      "provenance": []
    },
    "kernelspec": {
      "name": "python3",
      "display_name": "Python 3"
    },
    "accelerator": "GPU"
  },
  "cells": [
    {
      "cell_type": "code",
      "metadata": {
        "id": "-8NfZoZ03rkI",
        "colab_type": "code",
        "colab": {}
      },
      "source": [
        "import numpy as np\n",
        "import torch\n",
        "import torch.autograd as autograd\n",
        "from torch.autograd import Variable\n",
        "import torch.nn as nn\n",
        "import torch.nn.functional as F\n",
        "import torch.optim as optim"
      ],
      "execution_count": 0,
      "outputs": []
    },
    {
      "cell_type": "code",
      "metadata": {
        "id": "HtfS-6cJzgbE",
        "colab_type": "code",
        "colab": {}
      },
      "source": [
        "corpus = [\n",
        "    '노인종합복지관 안내서비스가 있다던데',\n",
        "    '내가 알고 싶은 건 노인종합복지관 안내야',\n",
        "    '노인종합복지관 안내 이게 뭐야',\n",
        "    '노인종합복지관 안내가 뭔지 궁금하다',\n",
        "    '노인종합복지관 안내 말해',\n",
        "    '노인종합복지관 안내가 궁금합니다',\n",
        "    '노인종합복지관 안내 알려줘',\n",
        "]"
      ],
      "execution_count": 0,
      "outputs": []
    },
    {
      "cell_type": "code",
      "metadata": {
        "id": "ey9CxLld0X1c",
        "colab_type": "code",
        "colab": {
          "base_uri": "https://localhost:8080/",
          "height": 55
        },
        "outputId": "ee7da21d-a36a-4398-cc76-c5afb979c222"
      },
      "source": [
        "def tokenize_corpus(corpus):\n",
        "    tokens = [x.split() for x in corpus]\n",
        "    return tokens\n",
        "\n",
        "tokenized_corpus = tokenize_corpus(corpus)\n",
        "print(tokenized_corpus)"
      ],
      "execution_count": 13,
      "outputs": [
        {
          "output_type": "stream",
          "text": [
            "[['노인종합복지관', '안내서비스가', '있다던데'], ['내가', '알고', '싶은', '건', '노인종합복지관', '안내야'], ['노인종합복지관', '안내', '이게', '뭐야'], ['노인종합복지관', '안내가', '뭔지', '궁금하다'], ['노인종합복지관', '안내', '말해'], ['노인종합복지관', '안내가', '궁금합니다'], ['노인종합복지관', '안내', '알려줘']]\n"
          ],
          "name": "stdout"
        }
      ]
    },
    {
      "cell_type": "code",
      "metadata": {
        "id": "vXW5jBEI0rg1",
        "colab_type": "code",
        "colab": {
          "base_uri": "https://localhost:8080/",
          "height": 91
        },
        "outputId": "8732dfa5-064c-4e77-b0b9-894ef5747784"
      },
      "source": [
        "vocabulary = []\n",
        "for sentence in tokenized_corpus:\n",
        "    for token in sentence:\n",
        "        if token not in vocabulary:\n",
        "            vocabulary.append(token)\n",
        "\n",
        "word2idx = {w: idx for (idx, w) in enumerate(vocabulary)}\n",
        "idx2word = {idx: w for (idx, w) in enumerate(vocabulary)}\n",
        "\n",
        "vocabulary_size = len(vocabulary)\n",
        "print(vocabulary)\n",
        "print(word2idx)\n",
        "print(idx2word)"
      ],
      "execution_count": 14,
      "outputs": [
        {
          "output_type": "stream",
          "text": [
            "['노인종합복지관', '안내서비스가', '있다던데', '내가', '알고', '싶은', '건', '안내야', '안내', '이게', '뭐야', '안내가', '뭔지', '궁금하다', '말해', '궁금합니다', '알려줘']\n",
            "{'노인종합복지관': 0, '안내서비스가': 1, '있다던데': 2, '내가': 3, '알고': 4, '싶은': 5, '건': 6, '안내야': 7, '안내': 8, '이게': 9, '뭐야': 10, '안내가': 11, '뭔지': 12, '궁금하다': 13, '말해': 14, '궁금합니다': 15, '알려줘': 16}\n",
            "{0: '노인종합복지관', 1: '안내서비스가', 2: '있다던데', 3: '내가', 4: '알고', 5: '싶은', 6: '건', 7: '안내야', 8: '안내', 9: '이게', 10: '뭐야', 11: '안내가', 12: '뭔지', 13: '궁금하다', 14: '말해', 15: '궁금합니다', 16: '알려줘'}\n"
          ],
          "name": "stdout"
        }
      ]
    },
    {
      "cell_type": "code",
      "metadata": {
        "id": "PUjIsuv-7KfC",
        "colab_type": "code",
        "colab": {}
      },
      "source": [
        "window_size = 2\n",
        "idx_pairs = []\n",
        "# for each sentence\n",
        "for sentence in tokenized_corpus:\n",
        "    indices = [word2idx[word] for word in sentence]\n",
        "    # for each word, threated as center word\n",
        "    for center_word_pos in range(len(indices)):\n",
        "        # for each window position\n",
        "        for w in range(-window_size, window_size + 1):\n",
        "            context_word_pos = center_word_pos + w\n",
        "            # make soure not jump out sentence\n",
        "            if context_word_pos < 0 or context_word_pos >= len(indices) or center_word_pos == context_word_pos:\n",
        "                continue\n",
        "            context_word_idx = indices[context_word_pos]\n",
        "            idx_pairs.append((indices[center_word_pos], context_word_idx))\n",
        "\n",
        "idx_pairs = np.array(idx_pairs) # it will be useful to have this as numpy array"
      ],
      "execution_count": 0,
      "outputs": []
    },
    {
      "cell_type": "code",
      "metadata": {
        "id": "_OcIQAfF3c-L",
        "colab_type": "code",
        "colab": {}
      },
      "source": [
        "def get_input_layer(word_idx):\n",
        "    x = torch.zeros(vocabulary_size).float()\n",
        "    x[word_idx] = 1.0\n",
        "    return x"
      ],
      "execution_count": 0,
      "outputs": []
    },
    {
      "cell_type": "code",
      "metadata": {
        "id": "QEbWJAAb3lNj",
        "colab_type": "code",
        "colab": {}
      },
      "source": [
        "embedding_dims = 5\n",
        "W1 = Variable(torch.randn(embedding_dims, vocabulary_size).float(), requires_grad=True)\n",
        "x = torch.zeros(vocabulary_size).float()\n",
        "z1 = torch.matmul(W1,x)"
      ],
      "execution_count": 0,
      "outputs": []
    },
    {
      "cell_type": "code",
      "metadata": {
        "id": "mB7IUVHl7X_p",
        "colab_type": "code",
        "colab": {}
      },
      "source": [
        "W2 = Variable(torch.randn(vocabulary_size, embedding_dims).float(), requires_grad=True)\n",
        "z2 = torch.matmul(W2, z1)"
      ],
      "execution_count": 0,
      "outputs": []
    },
    {
      "cell_type": "code",
      "metadata": {
        "id": "WcPcUoS27v26",
        "colab_type": "code",
        "colab": {
          "base_uri": "https://localhost:8080/",
          "height": 197
        },
        "outputId": "ba4ef916-b3a3-4740-f98c-2fa0c9452b0f"
      },
      "source": [
        "embedding_dims = 5\n",
        "W1 = Variable(torch.randn(embedding_dims, vocabulary_size).float(), requires_grad=True)\n",
        "W2 = Variable(torch.randn(vocabulary_size, embedding_dims).float(), requires_grad=True)\n",
        "num_epochs = 100\n",
        "learning_rate = 0.001\n",
        "\n",
        "for epo in range(num_epochs):\n",
        "    loss_val = 0\n",
        "    for data, target in idx_pairs:\n",
        "        x = Variable(get_input_layer(data)).float()\n",
        "        y_true = Variable(torch.from_numpy(np.array([target])).long())\n",
        "\n",
        "        z1 = torch.matmul(W1, x)\n",
        "        z2 = torch.matmul(W2, z1)\n",
        "    \n",
        "        log_softmax = F.log_softmax(z2, dim=0)\n",
        "\n",
        "        loss = F.nll_loss(log_softmax.view(1,-1), y_true)\n",
        "        loss_val += loss.data\n",
        "        loss.backward()\n",
        "        W1.data -= learning_rate * W1.grad.data\n",
        "        W2.data -= learning_rate * W2.grad.data\n",
        "\n",
        "        W1.grad.data.zero_()\n",
        "        W2.grad.data.zero_()\n",
        "    if epo % 10 == 0:    \n",
        "        print(f'Loss at epo {epo}: {loss_val/len(idx_pairs)}')"
      ],
      "execution_count": 19,
      "outputs": [
        {
          "output_type": "stream",
          "text": [
            "Loss at epo 0: 5.395770072937012\n",
            "Loss at epo 10: 4.814876556396484\n",
            "Loss at epo 20: 4.393234729766846\n",
            "Loss at epo 30: 4.082814693450928\n",
            "Loss at epo 40: 3.8434722423553467\n",
            "Loss at epo 50: 3.651871681213379\n",
            "Loss at epo 60: 3.4944581985473633\n",
            "Loss at epo 70: 3.362623929977417\n",
            "Loss at epo 80: 3.250505208969116\n",
            "Loss at epo 90: 3.1539103984832764\n"
          ],
          "name": "stdout"
        }
      ]
    }
  ]
}